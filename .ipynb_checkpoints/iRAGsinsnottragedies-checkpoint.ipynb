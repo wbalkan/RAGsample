{
 "cells": [
  {
   "cell_type": "code",
   "execution_count": 6,
   "id": "e12b9d21",
   "metadata": {},
   "outputs": [
    {
     "name": "stdout",
     "output_type": "stream",
     "text": [
      "········\n"
     ]
    }
   ],
   "source": [
    "from getpass import getpass\n",
    "HF_TOKEN = getpass()"
   ]
  },
  {
   "cell_type": "code",
   "execution_count": 1,
   "id": "ee83388c",
   "metadata": {},
   "outputs": [],
   "source": [
    "# %pip install llama-index-embeddings-langchain\n",
    "# %pip install llama-index-llms-huggingface"
   ]
  },
  {
   "cell_type": "code",
   "execution_count": 2,
   "id": "4af40ed3",
   "metadata": {},
   "outputs": [],
   "source": [
    "from llama_index.core import  SimpleDirectoryReader"
   ]
  },
  {
   "cell_type": "code",
   "execution_count": 28,
   "id": "74bfe42c",
   "metadata": {},
   "outputs": [],
   "source": [
    "from langchain.embeddings import HuggingFaceInferenceAPIEmbeddings\n",
    "from llama_index.embeddings.langchain import LangchainEmbedding\n",
    "from llama_index.llms.huggingface import HuggingFaceInferenceAPI\n",
    "from llama_index.core import Settings\n",
    "from llama_index.core import VectorStoreIndex"
   ]
  },
  {
   "cell_type": "code",
   "execution_count": 4,
   "id": "26464b37",
   "metadata": {},
   "outputs": [],
   "source": [
    "import os"
   ]
  },
  {
   "cell_type": "code",
   "execution_count": 62,
   "id": "c07d3a92",
   "metadata": {},
   "outputs": [],
   "source": [
    "documents = SimpleDirectoryReader(\"data\").load_data()\n",
    "llm = HuggingFaceInferenceAPI(\n",
    "    model_name=\"HuggingFaceH4/zephyr-7b-alpha\", token=HF_TOKEN\n",
    ")\n",
    "embed_model = LangchainEmbedding(\n",
    "    HuggingFaceInferenceAPIEmbeddings(api_key=HF_TOKEN,model_name=\"thenlper/gte-large\")\n",
    ")\n",
    "\n",
    "### for some reason it doesn't work with global settings? ###\n",
    "# Settings.llm=llm\n",
    "# Settings.emded_model=embed_model\n",
    "# Settings.chunk_size=512\n",
    "\n",
    "index = VectorStoreIndex.from_documents(\n",
    "    documents,\n",
    "    llm=llm,\n",
    "    embed_model=embed_model,\n",
    "    chunk_size=512,\n",
    "                                       )"
   ]
  },
  {
   "cell_type": "code",
   "execution_count": 65,
   "id": "8be45349",
   "metadata": {
    "scrolled": true
   },
   "outputs": [],
   "source": [
    "query_engine = index.as_query_engine()\n",
    "response = query_engine.query(\"what is her celebrity dancer comparison\")"
   ]
  },
  {
   "cell_type": "code",
   "execution_count": 66,
   "id": "673cd1b3",
   "metadata": {},
   "outputs": [
    {
     "name": "stdout",
     "output_type": "stream",
     "text": [
      "\n",
      "\n",
      "The celebrity dancer comparison mentioned in the given text is \"She wants to dance like Uma Thurman\".\n"
     ]
    }
   ],
   "source": [
    "print(response)"
   ]
  },
  {
   "cell_type": "code",
   "execution_count": null,
   "id": "ff17dc21",
   "metadata": {},
   "outputs": [],
   "source": []
  }
 ],
 "metadata": {
  "kernelspec": {
   "display_name": "Python 3 (ipykernel)",
   "language": "python",
   "name": "python3"
  },
  "language_info": {
   "codemirror_mode": {
    "name": "ipython",
    "version": 3
   },
   "file_extension": ".py",
   "mimetype": "text/x-python",
   "name": "python",
   "nbconvert_exporter": "python",
   "pygments_lexer": "ipython3",
   "version": "3.9.13"
  }
 },
 "nbformat": 4,
 "nbformat_minor": 5
}
